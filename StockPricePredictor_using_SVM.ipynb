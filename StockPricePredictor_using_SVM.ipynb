{
 "cells": [
  {
   "cell_type": "markdown",
   "metadata": {},
   "source": [
    "# Stock Price Predictor using SVM\n",
    "## How this works\n",
    "A <b>Support Vector Machine (SVM)</b> works on a simple formula and draws a line between the two different sets data points to separate them and predict the next value in the dataset. It uses `Gradient Descent` and `Error Optimisation` to reduce the error and get better and better with its predictions. In this notebook we will use `pandas` to get the datasets and read them and `numpy` to organise the datsets and `sci-kit learn` to prepare our model and predict the closing stock prices of any given company by just locking at the date and opening price of the stocks and `matplotlib` to visualize the datasets. You can also watch this <a href=\"https://www.youtube.com/watch?v=fwY9Qv96DJY\">tutorial</a> on the training and testing of SVMs but that tutorial shows a different approach when handeling the test and train data, so it depends on you to choose one dataset handeling technique"
   ]
  },
  {
   "cell_type": "markdown",
   "metadata": {},
   "source": [
    "## Model as different steps\n",
    "We can execute each step one by one while preparing the model."
   ]
  },
  {
   "cell_type": "markdown",
   "metadata": {},
   "source": [
    "#### 1. Installing the dependencies\n",
    "We'll need `pandas` and `sklearn` for our predictions and `matplotlib` for data visualization."
   ]
  },
  {
   "cell_type": "code",
   "execution_count": 29,
   "metadata": {},
   "outputs": [],
   "source": [
    "import pandas as pd\n",
    "import numpy as np\n",
    "import sklearn.linear_model as linear_model\n",
    "import matplotlib.pyplot as plt"
   ]
  },
  {
   "cell_type": "markdown",
   "metadata": {},
   "source": [
    "#### 2. Getting the datasets\n",
    "We'll need to get the historical data of the stocks we want to predict, so here we have the historical data of a company from <a href=\"http://finance.yahoo.com\">Yahoo! Finance</a> and storing it as a csv file which our `pd.read_csv` function would access. Then we will get the opening and the closing prices from the train dataset to train our model on(if you want then you can also train your model on different dataset). Then we will get the opening price from our test dataset to test our model and get the predictions."
   ]
  },
  {
   "cell_type": "code",
   "execution_count": 30,
   "metadata": {},
   "outputs": [],
   "source": [
    "train_dataset = pd.read_csv(\"train.csv\", sep=\",\")\n",
    "test_dataset = pd.read_csv(\"test.csv\", sep=\",\")"
   ]
  },
  {
   "cell_type": "markdown",
   "metadata": {},
   "source": [
    "We'll need to divide the train and test dataset into `x_train`, `y_train` and `x_test`, `y_test` to train our model on."
   ]
  },
  {
   "cell_type": "code",
   "execution_count": 31,
   "metadata": {},
   "outputs": [],
   "source": [
    "x_train = np.array(train_dataset[[\"Open\"]])\n",
    "y_train = np.array(train_dataset[[\"Close\"]])\n",
    "x_test = np.array(test_dataset[[\"Open\"]])\n",
    "y_test = np.array(test_dataset[[\"Close\"]])"
   ]
  },
  {
   "cell_type": "markdown",
   "metadata": {},
   "source": [
    "#### 3. Training the model\n",
    "We'll need to train our <b>model</b> now using the `x_train`, `y_train` dataset variables and see whether it can correctly predict the closing prices of the company stocks."
   ]
  },
  {
   "cell_type": "code",
   "execution_count": 32,
   "metadata": {},
   "outputs": [
    {
     "data": {
      "text/plain": [
       "LinearRegression(copy_X=True, fit_intercept=True, n_jobs=None, normalize=False)"
      ]
     },
     "execution_count": 32,
     "metadata": {},
     "output_type": "execute_result"
    }
   ],
   "source": [
    "linear = linear_model.LinearRegression()\n",
    "linear.fit(x_train, y_train, 1000)"
   ]
  },
  {
   "cell_type": "markdown",
   "metadata": {},
   "source": [
    "#### 4. Visualizing the dataset\n",
    "Now we can visualize the dataset using `matplotlib`."
   ]
  },
  {
   "cell_type": "code",
   "execution_count": 33,
   "metadata": {},
   "outputs": [
    {
     "data": {
      "image/png": "[encoded data removed]",
      "text/plain": [
       "<Figure size 432x288 with 1 Axes>"
      ]
     },
     "metadata": {
      "needs_background": "light"
     },
     "output_type": "display_data"
    }
   ],
   "source": [
    "plt.scatter(x_train, y_train, color=\"Blue\")\n",
    "plt.show()"
   ]
  },
  {
   "cell_type": "markdown",
   "metadata": {},
   "source": [
    "#### 5. Making prdictions\n",
    "Now we can make predictions and predict the closing stock prices with just the opening price of the stocks. Then we will compare the predicted price with the real price."
   ]
  },
  {
   "cell_type": "code",
   "execution_count": 34,
   "metadata": {},
   "outputs": [
    {
     "name": "stdout",
     "output_type": "stream",
     "text": [
      "Prediction:  [[290.75005121]]  | Real:  [[285.3]]\n"
     ]
    }
   ],
   "source": [
    "predictions = linear.predict(x_test)\n",
    "real = y_test\n",
    "print(\"Prediction: \", predictions, \" | Real: \", real)"
   ]
  },
  {
   "cell_type": "markdown",
   "metadata": {},
   "source": [
    "#### 6. Calculating Error\n",
    "Now we can calculate the error by subtracting the Predicted value from the real value"
   ]
  },
  {
   "cell_type": "code",
   "execution_count": 35,
   "metadata": {},
   "outputs": [
    {
     "name": "stdout",
     "output_type": "stream",
     "text": [
      "Error:  [[5.45005121]]\n"
     ]
    }
   ],
   "source": [
    "error = predictions - real\n",
    "print(\"Error: \", error)"
   ]
  },
  {
   "cell_type": "markdown",
   "metadata": {},
   "source": [
    "## Model as a function\n",
    "We can store our whole model as a function and use it in only on line of code."
   ]
  },
  {
   "cell_type": "code",
   "execution_count": 10,
   "metadata": {},
   "outputs": [],
   "source": [
    "def stockPredictor(train_dataset, test_dataset, epochs):\n",
    "    # Getting the datsets\n",
    "    train_dataset = pd.read_csv(train_dataset, sep=\",\")\n",
    "    train_dataset = train_dataset[[\"Open\", \"Close\"]]\n",
    "    test_dataset = pd.read_csv(test_dataset, sep=\",\")\n",
    "    test_dataset = test_dataset[[\"Open\", \"Close\"]]\n",
    "    predict = \"Close\"\n",
    "    x_train = np.array(train_dataset.drop([predict], 1))\n",
    "    y_train = np.array(train_dataset[predict])\n",
    "    x_test = np.array(test_dataset.drop([predict], 1))\n",
    "    y_test = np.array(test_dataset[predict])\n",
    "    # Training the model\n",
    "    linear = linear_model.LinearRegression()\n",
    "    linear.fit(x_train, y_train, epochs)\n",
    "    # Visualize the datsets\n",
    "    plt.scatter(x_train, y_train, color=\"Blue\")\n",
    "    plt.show()\n",
    "    # Make predictions\n",
    "    predictions = linear.predict(x_test)\n",
    "    real = y_test\n",
    "    print(\"Prediction: \", predictions, \" | Real: \", real)\n",
    "    # Calculate the error\n",
    "    error = predictions - real\n",
    "    print(\"Error: \", error)"
   ]
  },
  {
   "cell_type": "code",
   "execution_count": 12,
   "metadata": {},
   "outputs": [
    {
     "data": {
      "image/png": "[encoded data removed]",
      "text/plain": [
       "<Figure size 432x288 with 1 Axes>"
      ]
     },
     "metadata": {
      "needs_background": "light"
     },
     "output_type": "display_data"
    },
    {
     "name": "stdout",
     "output_type": "stream",
     "text": [
      "Prediction:  [290.75005121]  | Real:  [285.3]\n",
      "Error:  [5.45005121]\n"
     ]
    }
   ],
   "source": [
    "# Initializing variables\n",
    "train_dataset = \"C:\\\\Users\\\\rishit\\\\PycharmProjects\\\\tensorEnv\\\\train.csv\"\n",
    "test_dataset = \"C:\\\\Users\\\\rishit\\\\PycharmProjects\\\\tensorEnv\\\\test.csv\"\n",
    "# Calling the function\n",
    "stockPredictor(train_dataset, test_dataset, epochs = 1000)"
   ]
  },
  {
   "cell_type": "code",
   "execution_count": null,
   "metadata": {},
   "outputs": [],
   "source": []
  }
 ],
 "metadata": {
  "kernelspec": {
   "display_name": "Python 3",
   "language": "python",
   "name": "python3"
  },
  "language_info": {
   "codemirror_mode": {
    "name": "ipython",
    "version": 3
   },
   "file_extension": ".py",
   "mimetype": "text/x-python",
   "name": "python",
   "nbconvert_exporter": "python",
   "pygments_lexer": "ipython3",
   "version": "3.7.4"
  }
 },
 "nbformat": 4,
 "nbformat_minor": 4
}
